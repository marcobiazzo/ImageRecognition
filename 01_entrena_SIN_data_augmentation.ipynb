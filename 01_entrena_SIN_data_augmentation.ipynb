{
  "nbformat": 4,
  "nbformat_minor": 0,
  "metadata": {
    "kernelspec": {
      "name": "python3",
      "display_name": "Python 3"
    },
    "language_info": {
      "codemirror_mode": {
        "name": "ipython",
        "version": 3
      },
      "file_extension": ".py",
      "mimetype": "text/x-python",
      "name": "python",
      "nbconvert_exporter": "python",
      "pygments_lexer": "ipython3",
      "version": "3.6.5"
    },
    "colab": {
      "name": "01-entrena_SIN_data_augmentation.ipynb",
      "provenance": [],
      "collapsed_sections": [],
      "include_colab_link": true
    },
    "accelerator": "GPU"
  },
  "cells": [
    {
      "cell_type": "markdown",
      "metadata": {
        "id": "view-in-github",
        "colab_type": "text"
      },
      "source": [
        "<a href=\"https://colab.research.google.com/github/marcobiazzo/ImageRecognition/blob/main/01_entrena_SIN_data_augmentation.ipynb\" target=\"_parent\"><img src=\"https://colab.research.google.com/assets/colab-badge.svg\" alt=\"Open In Colab\"/></a>"
      ]
    },
    {
      "cell_type": "markdown",
      "metadata": {
        "collapsed": true,
        "id": "96pPhPQMjxe0"
      },
      "source": [
        "## **Cats and Dogs: Entrenamiento de una CNN (modelo 1)**"
      ]
    },
    {
      "cell_type": "code",
      "metadata": {
        "id": "ZUu3IOkCxxeU"
      },
      "source": [
        "COLAB = True"
      ],
      "execution_count": null,
      "outputs": []
    },
    {
      "cell_type": "code",
      "metadata": {
        "id": "dQJI_5u4yCZL",
        "colab": {
          "base_uri": "https://localhost:8080/",
          "height": 34
        },
        "outputId": "75b7ecab-4b15-4727-cb97-5a2910c59afe"
      },
      "source": [
        "if COLAB:\n",
        "    %tensorflow_version 1.x"
      ],
      "execution_count": null,
      "outputs": [
        {
          "output_type": "stream",
          "text": [
            "TensorFlow 1.x selected.\n"
          ],
          "name": "stdout"
        }
      ]
    },
    {
      "cell_type": "code",
      "metadata": {
        "id": "LhxDCTJ7jxe4"
      },
      "source": [
        "# Extendido de:\n",
        "# https://blog.keras.io/building-powerful-image-classification-models-using-very-little-data.html"
      ],
      "execution_count": null,
      "outputs": []
    },
    {
      "cell_type": "code",
      "metadata": {
        "id": "8MlgNhw_jxfC"
      },
      "source": [
        "from keras.preprocessing.image import ImageDataGenerator, load_img, img_to_array\n",
        "from keras.models import Sequential, load_model\n",
        "from keras.layers import Conv2D, MaxPooling2D\n",
        "from keras.layers import Activation, Dropout, Flatten, Dense\n",
        "from keras import backend as K\n",
        "from keras import optimizers, regularizers\n",
        "from keras.callbacks import ModelCheckpoint\n",
        "\n",
        "import matplotlib.pyplot as plt\n",
        "import numpy as np\n",
        "\n",
        "from IPython.display import SVG, display, clear_output\n",
        "from keras.utils.vis_utils import model_to_dot\n",
        "\n",
        "from sklearn.metrics import classification_report, confusion_matrix, roc_curve, auc\n",
        "\n",
        "%matplotlib inline"
      ],
      "execution_count": null,
      "outputs": []
    },
    {
      "cell_type": "code",
      "metadata": {
        "id": "kfJA8riOyNTg"
      },
      "source": [
        "if COLAB:\n",
        "    from google_drive_downloader import GoogleDriveDownloader as gdd\n",
        "    gdd.download_file_from_google_drive(file_id='1tKYqJxfnFF_bBbdra3qKBgD9bH-CpbKp',\n",
        "                                        dest_path='./prepara_datos_imagenes.py')"
      ],
      "execution_count": null,
      "outputs": []
    },
    {
      "cell_type": "code",
      "metadata": {
        "id": "Ri9l3gc6Nji7",
        "colab": {
          "base_uri": "https://localhost:8080/",
          "height": 34
        },
        "outputId": "6eb07c53-3fb0-43c9-a26f-f75c72f4f713"
      },
      "source": [
        "!ls"
      ],
      "execution_count": null,
      "outputs": [
        {
          "output_type": "stream",
          "text": [
            "prepara_datos_imagenes.py  sample_data\n"
          ],
          "name": "stdout"
        }
      ]
    },
    {
      "cell_type": "code",
      "metadata": {
        "id": "gUAWHV-vjxfI"
      },
      "source": [
        "# dimensions of our images.\n",
        "img_width, img_height = 150, 150\n",
        "#img_width, img_height = 20, 20\n",
        "\n",
        "dimensions = (img_height, img_width)"
      ],
      "execution_count": null,
      "outputs": []
    },
    {
      "cell_type": "code",
      "metadata": {
        "id": "CBGF5cYezlF1"
      },
      "source": [
        "import glob\n",
        "import numpy as np\n",
        "from keras.preprocessing.image import load_img, img_to_array\n",
        "import os\n",
        "try:\n",
        "    from google_drive_downloader import GoogleDriveDownloader as gdd\n",
        "except:\n",
        "    get_ipython().system('pip install googledrivedownloader')\n",
        "    from google_drive_downloader import GoogleDriveDownloader as gdd\n",
        "\n",
        "\n",
        "def lee_imagenes_directorio(directorio, img_width=150, img_height=150, verbose=False):\n",
        "    X = []\n",
        "    ficheros = glob.glob(directorio + '/*')\n",
        "    if verbose:\n",
        "        print('  Leyendo ficheros del directorio', directorio)\n",
        "    for i,f in enumerate(ficheros):\n",
        "#        if verbose and ((i+1)%250 == 0):\n",
        "#            print('    Leyendo fichero numero', i+1)\n",
        "        img = load_img(f, target_size=(img_width, img_height))\n",
        "        X.append(img_to_array(img))\n",
        "#    print('    {} ficheros leidos'.format(len(X)))\n",
        "    return np.array(X)\n",
        "\n",
        "\n",
        "def crea_fichero_npy(data_dir, img_width, img_height,\n",
        "                     nombre_fichero_X, nombre_fichero_y):\n",
        "    X_cats = lee_imagenes_directorio(data_dir + '/cats/',\n",
        "                                     verbose=True,\n",
        "                                     img_width=img_width,\n",
        "                                     img_height=img_height)\n",
        "    X_dogs = lee_imagenes_directorio(data_dir + '/dogs/',\n",
        "                                     verbose=True,\n",
        "                                     img_width=img_width,\n",
        "                                     img_height=img_height)\n",
        "    X = np.vstack((X_dogs, X_cats)) / 255\n",
        "    y = np.array(len(X_dogs)*[1] + len(X_cats)*[0])\n",
        "#    print(\"    \", X.shape)\n",
        "    \n",
        "    aux = '_' + str(img_width) + 'x' + str(img_height) + '.npy'\n",
        "    print('  escribiendo fichero '+nombre_fichero_X+aux+' ...')\n",
        "    np.save(nombre_fichero_X+aux, X)\n",
        "    print('  escribiendo fichero '+nombre_fichero_y+'.npy ...')\n",
        "    np.save(nombre_fichero_y+'.npy', y)\n",
        "    print()\n",
        "\n",
        "\n",
        "def prepara_datos_imagenes(file_id, dimensions=(150,150)):\n",
        "    \n",
        "    img_height, img_width = dimensions\n",
        "    \n",
        "    # caso 0: los datos ya están preparados (mi_Xtr, mi_Xva, mi_Xte, lo mismo para y)\n",
        "    if (all([os.path.isfile('{}_{}x{}.npy'.format(a,img_height,img_width))\n",
        "             for a in [\"mi_Xtr\", \"mi_Xva\", \"mi_Xte\"]]) and\n",
        "        all([os.path.isfile(b) for b in [\"mi_ytr.npy\", \"mi_yva.npy\", \"mi_yte.npy\"]])):\n",
        "        print(\"Los datos ya estaban listos\")\n",
        "        return\n",
        "    \n",
        "    # chequeo si los ficheros small_data/train, validation, test están:\n",
        "    if any([not os.path.isdir('small_data/{}'.format(a))\n",
        "            for a in [\"train\", \"validation\", \"test\"]]):\n",
        "        # en caso de que no, los preparo:\n",
        "        if not os.path.isfile(\"small_data.zip\"):\n",
        "            gdd.download_file_from_google_drive(file_id=file_id,\n",
        "                                                dest_path='./small_data.zip',\n",
        "                                                overwrite=True,\n",
        "                                                unzip=True,\n",
        "                                                showsize=True)\n",
        "    \n",
        "    # creo los ficheros numpy con todas las imágenes\n",
        "    print(\"Creando ficheros mi_Xtr y mi_ytr ...\")\n",
        "    crea_fichero_npy('small_data/train', img_width, img_height,\n",
        "                     'mi_Xtr', 'mi_ytr')\n",
        "    print(\"Creando ficheros mi_Xva y mi_yva ...\")\n",
        "    crea_fichero_npy('small_data/validation', img_width, img_height,\n",
        "                     'mi_Xva', 'mi_yva')\n",
        "    print(\"Creando ficheros mi_Xte y mi_yte ...\")\n",
        "    crea_fichero_npy('small_data/test0', img_width, img_height,\n",
        "                     'mi_Xte', 'mi_yte')\n"
      ],
      "execution_count": null,
      "outputs": []
    },
    {
      "cell_type": "code",
      "metadata": {
        "id": "eph8tqewySIR"
      },
      "source": [
        "#from prepara_datos_imagenes import prepara_datos_imagenes\n",
        "\n",
        "prepara_datos_imagenes(file_id=\"1CpfC-e5doyIQUXoaOUMDLeTL7EKR9UMu\",\n",
        "                       dimensions=dimensions)"
      ],
      "execution_count": null,
      "outputs": []
    },
    {
      "cell_type": "code",
      "metadata": {
        "id": "L6KrY3nIshMO"
      },
      "source": [
        "!ls small_data/train/dogs"
      ],
      "execution_count": null,
      "outputs": []
    },
    {
      "cell_type": "code",
      "metadata": {
        "id": "2aUr9vfOPWZY"
      },
      "source": [
        "!ls -la small_data/train/cats"
      ],
      "execution_count": null,
      "outputs": []
    },
    {
      "cell_type": "code",
      "metadata": {
        "id": "5BgC5C6ujxfN"
      },
      "source": [
        "aux = '_' + str(img_width) + 'x' + str(img_height) + '.npy'\n",
        "print('leyendo mi_Xtr'+aux+'...')\n",
        "Xtr = np.load('mi_Xtr'+aux)\n",
        "print('leyendo mi_Xva'+aux+'...')\n",
        "Xva = np.load('mi_Xva'+aux)\n",
        "print('leyendo mi_Xte'+aux+'...')\n",
        "Xte = np.load('mi_Xte'+aux)\n",
        "print('leyendo mi_ytr.npy, mi_yva.npy, mi_yte.npy ...')\n",
        "ytr = np.load('mi_ytr.npy')\n",
        "yva = np.load('mi_yva.npy')\n",
        "yte = np.load('mi_yte.npy')"
      ],
      "execution_count": null,
      "outputs": []
    },
    {
      "cell_type": "code",
      "metadata": {
        "id": "w8xkViCijxfe",
        "colab": {
          "base_uri": "https://localhost:8080/",
          "height": 69
        },
        "outputId": "4f597583-e5e4-403b-ac15-0f13f87d4c52"
      },
      "source": [
        "print(Xtr.shape)\n",
        "print(Xva.shape)\n",
        "print(Xte.shape)"
      ],
      "execution_count": null,
      "outputs": [
        {
          "output_type": "stream",
          "text": [
            "(2000, 150, 150, 3)\n",
            "(802, 150, 150, 3)\n",
            "(2002, 150, 150, 3)\n"
          ],
          "name": "stdout"
        }
      ]
    },
    {
      "cell_type": "code",
      "metadata": {
        "id": "gXvGsyGRjxfk"
      },
      "source": [
        "# Definicion del modelo\n",
        "\n",
        "input_shape = (img_width, img_height, 3)\n",
        "\n",
        "model = Sequential()\n",
        "model.add(Conv2D(32, (3,3), activation='relu', #strides=(2,2),\n",
        "                 input_shape=input_shape))\n",
        "model.add(MaxPooling2D((2,2)))\n",
        "model.add(Conv2D(32, (3,3), activation='relu'))\n",
        "model.add(MaxPooling2D((2,2)))\n",
        "model.add(Conv2D(64, (3,3), activation='relu'))\n",
        "model.add(MaxPooling2D((2,2)))\n",
        "model.add(Flatten())\n",
        "# aqui empieza la red neuronal 'standard'\n",
        "model.add(Dropout(0.7))\n",
        "model.add(Dense(128, activation='relu', kernel_regularizer=regularizers.l2(0.1)))\n",
        "model.add(Dropout(0.7))\n",
        "model.add(Dense(1, activation='sigmoid', kernel_regularizer=regularizers.l2(0.1)))\n",
        "model.compile(loss='binary_crossentropy',\n",
        "#              optimizer=optimizers.RMSprop(lr=1e-4),\n",
        "              optimizer=optimizers.RMSprop(),\n",
        "              metrics=['accuracy'])"
      ],
      "execution_count": null,
      "outputs": []
    },
    {
      "cell_type": "code",
      "metadata": {
        "id": "LmdC1pFCjxfo",
        "colab": {
          "base_uri": "https://localhost:8080/",
          "height": 34
        },
        "outputId": "04013ff3-621f-4703-c58c-eca09d1de82f"
      },
      "source": [
        "ytr"
      ],
      "execution_count": null,
      "outputs": [
        {
          "output_type": "execute_result",
          "data": {
            "text/plain": [
              "array([1, 1, 1, ..., 0, 0, 0])"
            ]
          },
          "metadata": {
            "tags": []
          },
          "execution_count": 15
        }
      ]
    },
    {
      "cell_type": "code",
      "metadata": {
        "id": "Q6F90UCjjxfs",
        "colab": {
          "base_uri": "https://localhost:8080/",
          "height": 1000
        },
        "outputId": "50afeaa0-5895-4847-f7b8-e80a888b2967"
      },
      "source": [
        "model.summary()\n",
        "print(\"\\n\\n\")\n",
        "if COLAB:\n",
        "    display(SVG(model_to_dot(model, show_shapes=True,dpi=72).create(prog='dot', format='svg')))\n",
        "else:\n",
        "    display(SVG(model_to_dot(model, show_shapes=True).create(prog='dot', format='svg')))"
      ],
      "execution_count": null,
      "outputs": [
        {
          "output_type": "stream",
          "text": [
            "Model: \"sequential_1\"\n",
            "_________________________________________________________________\n",
            "Layer (type)                 Output Shape              Param #   \n",
            "=================================================================\n",
            "conv2d_1 (Conv2D)            (None, 148, 148, 32)      896       \n",
            "_________________________________________________________________\n",
            "max_pooling2d_1 (MaxPooling2 (None, 74, 74, 32)        0         \n",
            "_________________________________________________________________\n",
            "conv2d_2 (Conv2D)            (None, 72, 72, 32)        9248      \n",
            "_________________________________________________________________\n",
            "max_pooling2d_2 (MaxPooling2 (None, 36, 36, 32)        0         \n",
            "_________________________________________________________________\n",
            "conv2d_3 (Conv2D)            (None, 34, 34, 64)        18496     \n",
            "_________________________________________________________________\n",
            "max_pooling2d_3 (MaxPooling2 (None, 17, 17, 64)        0         \n",
            "_________________________________________________________________\n",
            "flatten_1 (Flatten)          (None, 18496)             0         \n",
            "_________________________________________________________________\n",
            "dropout_1 (Dropout)          (None, 18496)             0         \n",
            "_________________________________________________________________\n",
            "dense_1 (Dense)              (None, 128)               2367616   \n",
            "_________________________________________________________________\n",
            "dropout_2 (Dropout)          (None, 128)               0         \n",
            "_________________________________________________________________\n",
            "dense_2 (Dense)              (None, 1)                 129       \n",
            "=================================================================\n",
            "Total params: 2,396,385\n",
            "Trainable params: 2,396,385\n",
            "Non-trainable params: 0\n",
            "_________________________________________________________________\n",
            "\n",
            "\n",
            "\n"
          ],
          "name": "stdout"
        },
        {
          "output_type": "display_data",
          "data": {
            "text/plain": [
              "<IPython.core.display.SVG object>"
            ],
            "image/svg+xml": "<svg height=\"968pt\" viewBox=\"0.00 0.00 427.00 968.00\" width=\"427pt\" xmlns=\"http://www.w3.org/2000/svg\" xmlns:xlink=\"http://www.w3.org/1999/xlink\">\n<g class=\"graph\" id=\"graph0\" transform=\"scale(1 1) rotate(0) translate(4 964)\">\n<title>G</title>\n<polygon fill=\"#ffffff\" points=\"-4,4 -4,-964 423,-964 423,4 -4,4\" stroke=\"transparent\"/>\n<!-- 140040644713552 -->\n<g class=\"node\" id=\"node1\">\n<title>140040644713552</title>\n<polygon fill=\"none\" points=\"22.5,-913.5 22.5,-959.5 396.5,-959.5 396.5,-913.5 22.5,-913.5\" stroke=\"#000000\"/>\n<text fill=\"#000000\" font-family=\"Times,serif\" font-size=\"14.00\" text-anchor=\"middle\" x=\"114.5\" y=\"-932.8\">conv2d_1_input: InputLayer</text>\n<polyline fill=\"none\" points=\"206.5,-913.5 206.5,-959.5 \" stroke=\"#000000\"/>\n<text fill=\"#000000\" font-family=\"Times,serif\" font-size=\"14.00\" text-anchor=\"middle\" x=\"235.5\" y=\"-944.3\">input:</text>\n<polyline fill=\"none\" points=\"206.5,-936.5 264.5,-936.5 \" stroke=\"#000000\"/>\n<text fill=\"#000000\" font-family=\"Times,serif\" font-size=\"14.00\" text-anchor=\"middle\" x=\"235.5\" y=\"-921.3\">output:</text>\n<polyline fill=\"none\" points=\"264.5,-913.5 264.5,-959.5 \" stroke=\"#000000\"/>\n<text fill=\"#000000\" font-family=\"Times,serif\" font-size=\"14.00\" text-anchor=\"middle\" x=\"330.5\" y=\"-944.3\">(None, 150, 150, 3)</text>\n<polyline fill=\"none\" points=\"264.5,-936.5 396.5,-936.5 \" stroke=\"#000000\"/>\n<text fill=\"#000000\" font-family=\"Times,serif\" font-size=\"14.00\" text-anchor=\"middle\" x=\"330.5\" y=\"-921.3\">(None, 150, 150, 3)</text>\n</g>\n<!-- 140040644712768 -->\n<g class=\"node\" id=\"node2\">\n<title>140040644712768</title>\n<polygon fill=\"none\" points=\"44,-830.5 44,-876.5 375,-876.5 375,-830.5 44,-830.5\" stroke=\"#000000\"/>\n<text fill=\"#000000\" font-family=\"Times,serif\" font-size=\"14.00\" text-anchor=\"middle\" x=\"110.5\" y=\"-849.8\">conv2d_1: Conv2D</text>\n<polyline fill=\"none\" points=\"177,-830.5 177,-876.5 \" stroke=\"#000000\"/>\n<text fill=\"#000000\" font-family=\"Times,serif\" font-size=\"14.00\" text-anchor=\"middle\" x=\"206\" y=\"-861.3\">input:</text>\n<polyline fill=\"none\" points=\"177,-853.5 235,-853.5 \" stroke=\"#000000\"/>\n<text fill=\"#000000\" font-family=\"Times,serif\" font-size=\"14.00\" text-anchor=\"middle\" x=\"206\" y=\"-838.3\">output:</text>\n<polyline fill=\"none\" points=\"235,-830.5 235,-876.5 \" stroke=\"#000000\"/>\n<text fill=\"#000000\" font-family=\"Times,serif\" font-size=\"14.00\" text-anchor=\"middle\" x=\"305\" y=\"-861.3\">(None, 150, 150, 3)</text>\n<polyline fill=\"none\" points=\"235,-853.5 375,-853.5 \" stroke=\"#000000\"/>\n<text fill=\"#000000\" font-family=\"Times,serif\" font-size=\"14.00\" text-anchor=\"middle\" x=\"305\" y=\"-838.3\">(None, 148, 148, 32)</text>\n</g>\n<!-- 140040644713552&#45;&gt;140040644712768 -->\n<g class=\"edge\" id=\"edge1\">\n<title>140040644713552-&gt;140040644712768</title>\n<path d=\"M209.5,-913.3799C209.5,-905.1745 209.5,-895.7679 209.5,-886.8786\" fill=\"none\" stroke=\"#000000\"/>\n<polygon fill=\"#000000\" points=\"213.0001,-886.784 209.5,-876.784 206.0001,-886.784 213.0001,-886.784\" stroke=\"#000000\"/>\n</g>\n<!-- 140040644659968 -->\n<g class=\"node\" id=\"node3\">\n<title>140040644659968</title>\n<polygon fill=\"none\" points=\"0,-747.5 0,-793.5 419,-793.5 419,-747.5 0,-747.5\" stroke=\"#000000\"/>\n<text fill=\"#000000\" font-family=\"Times,serif\" font-size=\"14.00\" text-anchor=\"middle\" x=\"110.5\" y=\"-766.8\">max_pooling2d_1: MaxPooling2D</text>\n<polyline fill=\"none\" points=\"221,-747.5 221,-793.5 \" stroke=\"#000000\"/>\n<text fill=\"#000000\" font-family=\"Times,serif\" font-size=\"14.00\" text-anchor=\"middle\" x=\"250\" y=\"-778.3\">input:</text>\n<polyline fill=\"none\" points=\"221,-770.5 279,-770.5 \" stroke=\"#000000\"/>\n<text fill=\"#000000\" font-family=\"Times,serif\" font-size=\"14.00\" text-anchor=\"middle\" x=\"250\" y=\"-755.3\">output:</text>\n<polyline fill=\"none\" points=\"279,-747.5 279,-793.5 \" stroke=\"#000000\"/>\n<text fill=\"#000000\" font-family=\"Times,serif\" font-size=\"14.00\" text-anchor=\"middle\" x=\"349\" y=\"-778.3\">(None, 148, 148, 32)</text>\n<polyline fill=\"none\" points=\"279,-770.5 419,-770.5 \" stroke=\"#000000\"/>\n<text fill=\"#000000\" font-family=\"Times,serif\" font-size=\"14.00\" text-anchor=\"middle\" x=\"349\" y=\"-755.3\">(None, 74, 74, 32)</text>\n</g>\n<!-- 140040644712768&#45;&gt;140040644659968 -->\n<g class=\"edge\" id=\"edge2\">\n<title>140040644712768-&gt;140040644659968</title>\n<path d=\"M209.5,-830.3799C209.5,-822.1745 209.5,-812.7679 209.5,-803.8786\" fill=\"none\" stroke=\"#000000\"/>\n<polygon fill=\"#000000\" points=\"213.0001,-803.784 209.5,-793.784 206.0001,-803.784 213.0001,-803.784\" stroke=\"#000000\"/>\n</g>\n<!-- 140040644713776 -->\n<g class=\"node\" id=\"node4\">\n<title>140040644713776</title>\n<polygon fill=\"none\" points=\"51.5,-664.5 51.5,-710.5 367.5,-710.5 367.5,-664.5 51.5,-664.5\" stroke=\"#000000\"/>\n<text fill=\"#000000\" font-family=\"Times,serif\" font-size=\"14.00\" text-anchor=\"middle\" x=\"118\" y=\"-683.8\">conv2d_2: Conv2D</text>\n<polyline fill=\"none\" points=\"184.5,-664.5 184.5,-710.5 \" stroke=\"#000000\"/>\n<text fill=\"#000000\" font-family=\"Times,serif\" font-size=\"14.00\" text-anchor=\"middle\" x=\"213.5\" y=\"-695.3\">input:</text>\n<polyline fill=\"none\" points=\"184.5,-687.5 242.5,-687.5 \" stroke=\"#000000\"/>\n<text fill=\"#000000\" font-family=\"Times,serif\" font-size=\"14.00\" text-anchor=\"middle\" x=\"213.5\" y=\"-672.3\">output:</text>\n<polyline fill=\"none\" points=\"242.5,-664.5 242.5,-710.5 \" stroke=\"#000000\"/>\n<text fill=\"#000000\" font-family=\"Times,serif\" font-size=\"14.00\" text-anchor=\"middle\" x=\"305\" y=\"-695.3\">(None, 74, 74, 32)</text>\n<polyline fill=\"none\" points=\"242.5,-687.5 367.5,-687.5 \" stroke=\"#000000\"/>\n<text fill=\"#000000\" font-family=\"Times,serif\" font-size=\"14.00\" text-anchor=\"middle\" x=\"305\" y=\"-672.3\">(None, 72, 72, 32)</text>\n</g>\n<!-- 140040644659968&#45;&gt;140040644713776 -->\n<g class=\"edge\" id=\"edge3\">\n<title>140040644659968-&gt;140040644713776</title>\n<path d=\"M209.5,-747.3799C209.5,-739.1745 209.5,-729.7679 209.5,-720.8786\" fill=\"none\" stroke=\"#000000\"/>\n<polygon fill=\"#000000\" points=\"213.0001,-720.784 209.5,-710.784 206.0001,-720.784 213.0001,-720.784\" stroke=\"#000000\"/>\n</g>\n<!-- 140040644248856 -->\n<g class=\"node\" id=\"node5\">\n<title>140040644248856</title>\n<polygon fill=\"none\" points=\"7.5,-581.5 7.5,-627.5 411.5,-627.5 411.5,-581.5 7.5,-581.5\" stroke=\"#000000\"/>\n<text fill=\"#000000\" font-family=\"Times,serif\" font-size=\"14.00\" text-anchor=\"middle\" x=\"118\" y=\"-600.8\">max_pooling2d_2: MaxPooling2D</text>\n<polyline fill=\"none\" points=\"228.5,-581.5 228.5,-627.5 \" stroke=\"#000000\"/>\n<text fill=\"#000000\" font-family=\"Times,serif\" font-size=\"14.00\" text-anchor=\"middle\" x=\"257.5\" y=\"-612.3\">input:</text>\n<polyline fill=\"none\" points=\"228.5,-604.5 286.5,-604.5 \" stroke=\"#000000\"/>\n<text fill=\"#000000\" font-family=\"Times,serif\" font-size=\"14.00\" text-anchor=\"middle\" x=\"257.5\" y=\"-589.3\">output:</text>\n<polyline fill=\"none\" points=\"286.5,-581.5 286.5,-627.5 \" stroke=\"#000000\"/>\n<text fill=\"#000000\" font-family=\"Times,serif\" font-size=\"14.00\" text-anchor=\"middle\" x=\"349\" y=\"-612.3\">(None, 72, 72, 32)</text>\n<polyline fill=\"none\" points=\"286.5,-604.5 411.5,-604.5 \" stroke=\"#000000\"/>\n<text fill=\"#000000\" font-family=\"Times,serif\" font-size=\"14.00\" text-anchor=\"middle\" x=\"349\" y=\"-589.3\">(None, 36, 36, 32)</text>\n</g>\n<!-- 140040644713776&#45;&gt;140040644248856 -->\n<g class=\"edge\" id=\"edge4\">\n<title>140040644713776-&gt;140040644248856</title>\n<path d=\"M209.5,-664.3799C209.5,-656.1745 209.5,-646.7679 209.5,-637.8786\" fill=\"none\" stroke=\"#000000\"/>\n<polygon fill=\"#000000\" points=\"213.0001,-637.784 209.5,-627.784 206.0001,-637.784 213.0001,-637.784\" stroke=\"#000000\"/>\n</g>\n<!-- 140040644713832 -->\n<g class=\"node\" id=\"node6\">\n<title>140040644713832</title>\n<polygon fill=\"none\" points=\"51.5,-498.5 51.5,-544.5 367.5,-544.5 367.5,-498.5 51.5,-498.5\" stroke=\"#000000\"/>\n<text fill=\"#000000\" font-family=\"Times,serif\" font-size=\"14.00\" text-anchor=\"middle\" x=\"118\" y=\"-517.8\">conv2d_3: Conv2D</text>\n<polyline fill=\"none\" points=\"184.5,-498.5 184.5,-544.5 \" stroke=\"#000000\"/>\n<text fill=\"#000000\" font-family=\"Times,serif\" font-size=\"14.00\" text-anchor=\"middle\" x=\"213.5\" y=\"-529.3\">input:</text>\n<polyline fill=\"none\" points=\"184.5,-521.5 242.5,-521.5 \" stroke=\"#000000\"/>\n<text fill=\"#000000\" font-family=\"Times,serif\" font-size=\"14.00\" text-anchor=\"middle\" x=\"213.5\" y=\"-506.3\">output:</text>\n<polyline fill=\"none\" points=\"242.5,-498.5 242.5,-544.5 \" stroke=\"#000000\"/>\n<text fill=\"#000000\" font-family=\"Times,serif\" font-size=\"14.00\" text-anchor=\"middle\" x=\"305\" y=\"-529.3\">(None, 36, 36, 32)</text>\n<polyline fill=\"none\" points=\"242.5,-521.5 367.5,-521.5 \" stroke=\"#000000\"/>\n<text fill=\"#000000\" font-family=\"Times,serif\" font-size=\"14.00\" text-anchor=\"middle\" x=\"305\" y=\"-506.3\">(None, 34, 34, 64)</text>\n</g>\n<!-- 140040644248856&#45;&gt;140040644713832 -->\n<g class=\"edge\" id=\"edge5\">\n<title>140040644248856-&gt;140040644713832</title>\n<path d=\"M209.5,-581.3799C209.5,-573.1745 209.5,-563.7679 209.5,-554.8786\" fill=\"none\" stroke=\"#000000\"/>\n<polygon fill=\"#000000\" points=\"213.0001,-554.784 209.5,-544.784 206.0001,-554.784 213.0001,-554.784\" stroke=\"#000000\"/>\n</g>\n<!-- 140040644441312 -->\n<g class=\"node\" id=\"node7\">\n<title>140040644441312</title>\n<polygon fill=\"none\" points=\"7.5,-415.5 7.5,-461.5 411.5,-461.5 411.5,-415.5 7.5,-415.5\" stroke=\"#000000\"/>\n<text fill=\"#000000\" font-family=\"Times,serif\" font-size=\"14.00\" text-anchor=\"middle\" x=\"118\" y=\"-434.8\">max_pooling2d_3: MaxPooling2D</text>\n<polyline fill=\"none\" points=\"228.5,-415.5 228.5,-461.5 \" stroke=\"#000000\"/>\n<text fill=\"#000000\" font-family=\"Times,serif\" font-size=\"14.00\" text-anchor=\"middle\" x=\"257.5\" y=\"-446.3\">input:</text>\n<polyline fill=\"none\" points=\"228.5,-438.5 286.5,-438.5 \" stroke=\"#000000\"/>\n<text fill=\"#000000\" font-family=\"Times,serif\" font-size=\"14.00\" text-anchor=\"middle\" x=\"257.5\" y=\"-423.3\">output:</text>\n<polyline fill=\"none\" points=\"286.5,-415.5 286.5,-461.5 \" stroke=\"#000000\"/>\n<text fill=\"#000000\" font-family=\"Times,serif\" font-size=\"14.00\" text-anchor=\"middle\" x=\"349\" y=\"-446.3\">(None, 34, 34, 64)</text>\n<polyline fill=\"none\" points=\"286.5,-438.5 411.5,-438.5 \" stroke=\"#000000\"/>\n<text fill=\"#000000\" font-family=\"Times,serif\" font-size=\"14.00\" text-anchor=\"middle\" x=\"349\" y=\"-423.3\">(None, 17, 17, 64)</text>\n</g>\n<!-- 140040644713832&#45;&gt;140040644441312 -->\n<g class=\"edge\" id=\"edge6\">\n<title>140040644713832-&gt;140040644441312</title>\n<path d=\"M209.5,-498.3799C209.5,-490.1745 209.5,-480.7679 209.5,-471.8786\" fill=\"none\" stroke=\"#000000\"/>\n<polygon fill=\"#000000\" points=\"213.0001,-471.784 209.5,-461.784 206.0001,-471.784 213.0001,-471.784\" stroke=\"#000000\"/>\n</g>\n<!-- 140040643715704 -->\n<g class=\"node\" id=\"node8\">\n<title>140040643715704</title>\n<polygon fill=\"none\" points=\"61.5,-332.5 61.5,-378.5 357.5,-378.5 357.5,-332.5 61.5,-332.5\" stroke=\"#000000\"/>\n<text fill=\"#000000\" font-family=\"Times,serif\" font-size=\"14.00\" text-anchor=\"middle\" x=\"118\" y=\"-351.8\">flatten_1: Flatten</text>\n<polyline fill=\"none\" points=\"174.5,-332.5 174.5,-378.5 \" stroke=\"#000000\"/>\n<text fill=\"#000000\" font-family=\"Times,serif\" font-size=\"14.00\" text-anchor=\"middle\" x=\"203.5\" y=\"-363.3\">input:</text>\n<polyline fill=\"none\" points=\"174.5,-355.5 232.5,-355.5 \" stroke=\"#000000\"/>\n<text fill=\"#000000\" font-family=\"Times,serif\" font-size=\"14.00\" text-anchor=\"middle\" x=\"203.5\" y=\"-340.3\">output:</text>\n<polyline fill=\"none\" points=\"232.5,-332.5 232.5,-378.5 \" stroke=\"#000000\"/>\n<text fill=\"#000000\" font-family=\"Times,serif\" font-size=\"14.00\" text-anchor=\"middle\" x=\"295\" y=\"-363.3\">(None, 17, 17, 64)</text>\n<polyline fill=\"none\" points=\"232.5,-355.5 357.5,-355.5 \" stroke=\"#000000\"/>\n<text fill=\"#000000\" font-family=\"Times,serif\" font-size=\"14.00\" text-anchor=\"middle\" x=\"295\" y=\"-340.3\">(None, 18496)</text>\n</g>\n<!-- 140040644441312&#45;&gt;140040643715704 -->\n<g class=\"edge\" id=\"edge7\">\n<title>140040644441312-&gt;140040643715704</title>\n<path d=\"M209.5,-415.3799C209.5,-407.1745 209.5,-397.7679 209.5,-388.8786\" fill=\"none\" stroke=\"#000000\"/>\n<polygon fill=\"#000000\" points=\"213.0001,-388.784 209.5,-378.784 206.0001,-388.784 213.0001,-388.784\" stroke=\"#000000\"/>\n</g>\n<!-- 140040643750656 -->\n<g class=\"node\" id=\"node9\">\n<title>140040643750656</title>\n<polygon fill=\"none\" points=\"62.5,-249.5 62.5,-295.5 356.5,-295.5 356.5,-249.5 62.5,-249.5\" stroke=\"#000000\"/>\n<text fill=\"#000000\" font-family=\"Times,serif\" font-size=\"14.00\" text-anchor=\"middle\" x=\"129.5\" y=\"-268.8\">dropout_1: Dropout</text>\n<polyline fill=\"none\" points=\"196.5,-249.5 196.5,-295.5 \" stroke=\"#000000\"/>\n<text fill=\"#000000\" font-family=\"Times,serif\" font-size=\"14.00\" text-anchor=\"middle\" x=\"225.5\" y=\"-280.3\">input:</text>\n<polyline fill=\"none\" points=\"196.5,-272.5 254.5,-272.5 \" stroke=\"#000000\"/>\n<text fill=\"#000000\" font-family=\"Times,serif\" font-size=\"14.00\" text-anchor=\"middle\" x=\"225.5\" y=\"-257.3\">output:</text>\n<polyline fill=\"none\" points=\"254.5,-249.5 254.5,-295.5 \" stroke=\"#000000\"/>\n<text fill=\"#000000\" font-family=\"Times,serif\" font-size=\"14.00\" text-anchor=\"middle\" x=\"305.5\" y=\"-280.3\">(None, 18496)</text>\n<polyline fill=\"none\" points=\"254.5,-272.5 356.5,-272.5 \" stroke=\"#000000\"/>\n<text fill=\"#000000\" font-family=\"Times,serif\" font-size=\"14.00\" text-anchor=\"middle\" x=\"305.5\" y=\"-257.3\">(None, 18496)</text>\n</g>\n<!-- 140040643715704&#45;&gt;140040643750656 -->\n<g class=\"edge\" id=\"edge8\">\n<title>140040643715704-&gt;140040643750656</title>\n<path d=\"M209.5,-332.3799C209.5,-324.1745 209.5,-314.7679 209.5,-305.8786\" fill=\"none\" stroke=\"#000000\"/>\n<polygon fill=\"#000000\" points=\"213.0001,-305.784 209.5,-295.784 206.0001,-305.784 213.0001,-305.784\" stroke=\"#000000\"/>\n</g>\n<!-- 140040643748864 -->\n<g class=\"node\" id=\"node10\">\n<title>140040643748864</title>\n<polygon fill=\"none\" points=\"76,-166.5 76,-212.5 343,-212.5 343,-166.5 76,-166.5\" stroke=\"#000000\"/>\n<text fill=\"#000000\" font-family=\"Times,serif\" font-size=\"14.00\" text-anchor=\"middle\" x=\"129.5\" y=\"-185.8\">dense_1: Dense</text>\n<polyline fill=\"none\" points=\"183,-166.5 183,-212.5 \" stroke=\"#000000\"/>\n<text fill=\"#000000\" font-family=\"Times,serif\" font-size=\"14.00\" text-anchor=\"middle\" x=\"212\" y=\"-197.3\">input:</text>\n<polyline fill=\"none\" points=\"183,-189.5 241,-189.5 \" stroke=\"#000000\"/>\n<text fill=\"#000000\" font-family=\"Times,serif\" font-size=\"14.00\" text-anchor=\"middle\" x=\"212\" y=\"-174.3\">output:</text>\n<polyline fill=\"none\" points=\"241,-166.5 241,-212.5 \" stroke=\"#000000\"/>\n<text fill=\"#000000\" font-family=\"Times,serif\" font-size=\"14.00\" text-anchor=\"middle\" x=\"292\" y=\"-197.3\">(None, 18496)</text>\n<polyline fill=\"none\" points=\"241,-189.5 343,-189.5 \" stroke=\"#000000\"/>\n<text fill=\"#000000\" font-family=\"Times,serif\" font-size=\"14.00\" text-anchor=\"middle\" x=\"292\" y=\"-174.3\">(None, 128)</text>\n</g>\n<!-- 140040643750656&#45;&gt;140040643748864 -->\n<g class=\"edge\" id=\"edge9\">\n<title>140040643750656-&gt;140040643748864</title>\n<path d=\"M209.5,-249.3799C209.5,-241.1745 209.5,-231.7679 209.5,-222.8786\" fill=\"none\" stroke=\"#000000\"/>\n<polygon fill=\"#000000\" points=\"213.0001,-222.784 209.5,-212.784 206.0001,-222.784 213.0001,-222.784\" stroke=\"#000000\"/>\n</g>\n<!-- 140040643716432 -->\n<g class=\"node\" id=\"node11\">\n<title>140040643716432</title>\n<polygon fill=\"none\" points=\"70,-83.5 70,-129.5 349,-129.5 349,-83.5 70,-83.5\" stroke=\"#000000\"/>\n<text fill=\"#000000\" font-family=\"Times,serif\" font-size=\"14.00\" text-anchor=\"middle\" x=\"137\" y=\"-102.8\">dropout_2: Dropout</text>\n<polyline fill=\"none\" points=\"204,-83.5 204,-129.5 \" stroke=\"#000000\"/>\n<text fill=\"#000000\" font-family=\"Times,serif\" font-size=\"14.00\" text-anchor=\"middle\" x=\"233\" y=\"-114.3\">input:</text>\n<polyline fill=\"none\" points=\"204,-106.5 262,-106.5 \" stroke=\"#000000\"/>\n<text fill=\"#000000\" font-family=\"Times,serif\" font-size=\"14.00\" text-anchor=\"middle\" x=\"233\" y=\"-91.3\">output:</text>\n<polyline fill=\"none\" points=\"262,-83.5 262,-129.5 \" stroke=\"#000000\"/>\n<text fill=\"#000000\" font-family=\"Times,serif\" font-size=\"14.00\" text-anchor=\"middle\" x=\"305.5\" y=\"-114.3\">(None, 128)</text>\n<polyline fill=\"none\" points=\"262,-106.5 349,-106.5 \" stroke=\"#000000\"/>\n<text fill=\"#000000\" font-family=\"Times,serif\" font-size=\"14.00\" text-anchor=\"middle\" x=\"305.5\" y=\"-91.3\">(None, 128)</text>\n</g>\n<!-- 140040643748864&#45;&gt;140040643716432 -->\n<g class=\"edge\" id=\"edge10\">\n<title>140040643748864-&gt;140040643716432</title>\n<path d=\"M209.5,-166.3799C209.5,-158.1745 209.5,-148.7679 209.5,-139.8786\" fill=\"none\" stroke=\"#000000\"/>\n<polygon fill=\"#000000\" points=\"213.0001,-139.784 209.5,-129.784 206.0001,-139.784 213.0001,-139.784\" stroke=\"#000000\"/>\n</g>\n<!-- 140040643837848 -->\n<g class=\"node\" id=\"node12\">\n<title>140040643837848</title>\n<polygon fill=\"none\" points=\"83.5,-.5 83.5,-46.5 335.5,-46.5 335.5,-.5 83.5,-.5\" stroke=\"#000000\"/>\n<text fill=\"#000000\" font-family=\"Times,serif\" font-size=\"14.00\" text-anchor=\"middle\" x=\"137\" y=\"-19.8\">dense_2: Dense</text>\n<polyline fill=\"none\" points=\"190.5,-.5 190.5,-46.5 \" stroke=\"#000000\"/>\n<text fill=\"#000000\" font-family=\"Times,serif\" font-size=\"14.00\" text-anchor=\"middle\" x=\"219.5\" y=\"-31.3\">input:</text>\n<polyline fill=\"none\" points=\"190.5,-23.5 248.5,-23.5 \" stroke=\"#000000\"/>\n<text fill=\"#000000\" font-family=\"Times,serif\" font-size=\"14.00\" text-anchor=\"middle\" x=\"219.5\" y=\"-8.3\">output:</text>\n<polyline fill=\"none\" points=\"248.5,-.5 248.5,-46.5 \" stroke=\"#000000\"/>\n<text fill=\"#000000\" font-family=\"Times,serif\" font-size=\"14.00\" text-anchor=\"middle\" x=\"292\" y=\"-31.3\">(None, 128)</text>\n<polyline fill=\"none\" points=\"248.5,-23.5 335.5,-23.5 \" stroke=\"#000000\"/>\n<text fill=\"#000000\" font-family=\"Times,serif\" font-size=\"14.00\" text-anchor=\"middle\" x=\"292\" y=\"-8.3\">(None, 1)</text>\n</g>\n<!-- 140040643716432&#45;&gt;140040643837848 -->\n<g class=\"edge\" id=\"edge11\">\n<title>140040643716432-&gt;140040643837848</title>\n<path d=\"M209.5,-83.3799C209.5,-75.1745 209.5,-65.7679 209.5,-56.8786\" fill=\"none\" stroke=\"#000000\"/>\n<polygon fill=\"#000000\" points=\"213.0001,-56.784 209.5,-46.784 206.0001,-56.784 213.0001,-56.784\" stroke=\"#000000\"/>\n</g>\n</g>\n</svg>"
          },
          "metadata": {
            "tags": []
          }
        }
      ]
    },
    {
      "cell_type": "code",
      "metadata": {
        "id": "YfIxMwsnjxfz"
      },
      "source": [
        "from matplotlib.ticker import MaxNLocator\n",
        "\n",
        "def grafica_entrenamiento(tr_acc, val_acc, tr_loss, val_loss, best_i,\n",
        "                          figsize=(10,4)):\n",
        "    plt.figure(figsize=figsize)\n",
        "    ax = plt.subplot(1,2,1)\n",
        "    plt.plot(1+np.arange(len(tr_acc)),  100*np.array(tr_acc))\n",
        "    plt.plot(1+np.arange(len(val_acc)), 100*np.array(val_acc))\n",
        "    plt.plot(1+best_i, 100*val_acc[best_i], 'or')\n",
        "    plt.title('tasa de acierto del modelo (%)', fontsize=18)\n",
        "    plt.ylabel('tasa de acierto (%)', fontsize=18)\n",
        "    plt.xlabel('época', fontsize=18)\n",
        "    plt.legend(['entrenamiento', 'validación'], loc='upper left')\n",
        "    ax.xaxis.set_major_locator(MaxNLocator(integer=True))\n",
        "\n",
        "    plt.subplot(1,2,2)\n",
        "    plt.plot(1+np.arange(len(tr_acc)), np.array(tr_loss))\n",
        "    plt.plot(1+np.arange(len(val_acc)), np.array(val_loss))\n",
        "    plt.plot(1+best_i, val_loss[best_i], 'or')\n",
        "    plt.title('loss del modelo', fontsize=18)\n",
        "    plt.ylabel('loss', fontsize=18)\n",
        "    plt.xlabel('época', fontsize=18)\n",
        "    plt.legend(['entrenamiento', 'validación'], loc='upper left')\n",
        "    ax.xaxis.set_major_locator(MaxNLocator(integer=True))\n",
        "    plt.show()"
      ],
      "execution_count": null,
      "outputs": []
    },
    {
      "cell_type": "code",
      "metadata": {
        "id": "BNkxQGYLjxf5"
      },
      "source": [
        "acum_tr_acc   = []\n",
        "acum_val_acc  = []\n",
        "acum_tr_loss  = []\n",
        "acum_val_loss = []"
      ],
      "execution_count": null,
      "outputs": []
    },
    {
      "cell_type": "code",
      "metadata": {
        "id": "wMtpUh17jxf-",
        "colab": {
          "base_uri": "https://localhost:8080/",
          "height": 308
        },
        "outputId": "ea0bb319-b64c-42d9-c6d6-6ac15e5dbae7"
      },
      "source": [
        "epochs = 50\n",
        "batch_size = 16\n",
        "\n",
        "modelpath=\"./modelo1.h5\"\n",
        "\n",
        "checkpoint = ModelCheckpoint(modelpath, monitor='val_accuracy', verbose=1,\n",
        "                             save_best_only=True,\n",
        "                             mode='max') # graba sólo los que mejoran en validación\n",
        "callbacks_list = [checkpoint]\n",
        "for e in range(epochs):\n",
        "    history = model.fit(Xtr, ytr,\n",
        "                        batch_size=batch_size,\n",
        "                        epochs=1,\n",
        "                        callbacks=callbacks_list,\n",
        "                        verbose=1,\n",
        "                        validation_data=(Xva, yva))\n",
        "    \n",
        "    acum_tr_acc.append(history.history['accuracy'][0])\n",
        "    acum_val_acc.append(history.history['val_accuracy'][0])\n",
        "    acum_tr_loss.append(history.history['loss'][0])\n",
        "    acum_val_loss.append(history.history['val_loss'][0])\n",
        "    \n",
        "    if len(acum_tr_acc) > 1:\n",
        "        clear_output()\n",
        "        best_i = np.argmax(acum_val_acc)\n",
        "        grafica_entrenamiento(acum_tr_acc, acum_val_acc, acum_tr_loss, acum_val_loss, best_i)"
      ],
      "execution_count": null,
      "outputs": [
        {
          "output_type": "display_data",
          "data": {
            "image/png": "[encoded data removed]",
            "text/plain": [
              "<Figure size 720x288 with 2 Axes>"
            ]
          },
          "metadata": {
            "tags": [],
            "needs_background": "light"
          }
        }
      ]
    },
    {
      "cell_type": "code",
      "metadata": {
        "id": "y01S3WsjjxgE"
      },
      "source": [
        "model = load_model(modelpath)"
      ],
      "execution_count": null,
      "outputs": []
    },
    {
      "cell_type": "markdown",
      "metadata": {
        "id": "RkxB2KtjjxgI"
      },
      "source": [
        "## **Resultados obtenidos**"
      ]
    },
    {
      "cell_type": "code",
      "metadata": {
        "id": "a5PWrB0rjxgJ",
        "colab": {
          "base_uri": "https://localhost:8080/",
          "height": 173
        },
        "outputId": "c29577ca-a50e-4402-e104-eabecd6fd720"
      },
      "source": [
        "score_tr = model.evaluate(Xtr, ytr, verbose=1)\n",
        "print('Train loss    :', score_tr[0])\n",
        "print('Train accuracy:', score_tr[1])\n",
        "\n",
        "score_val = model.evaluate(Xva, yva, verbose=1)\n",
        "print('Val loss    :', score_val[0])\n",
        "print('Val accuracy:', score_val[1])\n",
        "\n",
        "score_te = model.evaluate(Xte, yte, verbose=1)\n",
        "print('Test loss     :', score_te[0])\n",
        "print('Test accuracy :', score_te[1])"
      ],
      "execution_count": null,
      "outputs": [
        {
          "output_type": "stream",
          "text": [
            "2000/2000 [==============================] - 1s 380us/step\n",
            "Train loss    : 0.7201811175346374\n",
            "Train accuracy: 0.7639999985694885\n",
            "802/802 [==============================] - 0s 297us/step\n",
            "Val loss    : 0.7385383486153182\n",
            "Val accuracy: 0.7306733131408691\n",
            "2002/2002 [==============================] - 1s 336us/step\n",
            "Test loss     : 0.7551740983149389\n",
            "Test accuracy : 0.7167832255363464\n"
          ],
          "name": "stdout"
        }
      ]
    },
    {
      "cell_type": "code",
      "metadata": {
        "id": "tEQDT269jxgN",
        "colab": {
          "base_uri": "https://localhost:8080/",
          "height": 17
        },
        "outputId": "b135f032-c26c-45ab-bd07-829ec3df1422"
      },
      "source": [
        "if COLAB:\n",
        "    from google.colab import files\n",
        "    files.download(modelpath)"
      ],
      "execution_count": null,
      "outputs": [
        {
          "output_type": "display_data",
          "data": {
            "application/javascript": [
              "\n",
              "    async function download(id, filename, size) {\n",
              "      if (!google.colab.kernel.accessAllowed) {\n",
              "        return;\n",
              "      }\n",
              "      const div = document.createElement('div');\n",
              "      const label = document.createElement('label');\n",
              "      label.textContent = `Downloading \"${filename}\": `;\n",
              "      div.appendChild(label);\n",
              "      const progress = document.createElement('progress');\n",
              "      progress.max = size;\n",
              "      div.appendChild(progress);\n",
              "      document.body.appendChild(div);\n",
              "\n",
              "      const buffers = [];\n",
              "      let downloaded = 0;\n",
              "\n",
              "      const channel = await google.colab.kernel.comms.open(id);\n",
              "      // Send a message to notify the kernel that we're ready.\n",
              "      channel.send({})\n",
              "\n",
              "      for await (const message of channel.messages) {\n",
              "        // Send a message to notify the kernel that we're ready.\n",
              "        channel.send({})\n",
              "        if (message.buffers) {\n",
              "          for (const buffer of message.buffers) {\n",
              "            buffers.push(buffer);\n",
              "            downloaded += buffer.byteLength;\n",
              "            progress.value = downloaded;\n",
              "          }\n",
              "        }\n",
              "      }\n",
              "      const blob = new Blob(buffers, {type: 'application/binary'});\n",
              "      const a = document.createElement('a');\n",
              "      a.href = window.URL.createObjectURL(blob);\n",
              "      a.download = filename;\n",
              "      div.appendChild(a);\n",
              "      a.click();\n",
              "      div.remove();\n",
              "    }\n",
              "  "
            ],
            "text/plain": [
              "<IPython.core.display.Javascript object>"
            ]
          },
          "metadata": {
            "tags": []
          }
        },
        {
          "output_type": "display_data",
          "data": {
            "application/javascript": [
              "download(\"download_bbbefe7e-9d88-417f-90a4-40a740d5a2fe\", \"modelo1.h5\", 19211216)"
            ],
            "text/plain": [
              "<IPython.core.display.Javascript object>"
            ]
          },
          "metadata": {
            "tags": []
          }
        }
      ]
    }
  ]
}